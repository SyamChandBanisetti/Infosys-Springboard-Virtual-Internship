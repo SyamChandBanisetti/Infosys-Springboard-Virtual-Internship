{
 "cells": [
  {
   "cell_type": "markdown",
   "id": "1b67ba40-6ead-4ab8-99ea-0e9e1c1001c7",
   "metadata": {},
   "source": [
    "# Day 10 — Encode Categorical Features & Handle Outliers\n",
    "\n",
    "---\n",
    "\n",
    "## Encode Categorical Features:\n",
    "Categorical encoding is converting categorical variables (textual or nominal data) into numerical format that machine learning algorithms can use. Common methods include:\n",
    "\n",
    "- **Label Encoding**: Assigning each unique category an integer label. Suitable for ordinal categories or tree-based models.\n",
    "\n",
    "- **One-Hot Encoding**: Creating binary columns for each category, indicating presence/absence. Good for nominal categorical variables with no intrinsic order.\n",
    "\n",
    "- **Pandas Categorical dtype**: Efficient memory representation and can be used for encoding.\n"
   ]
  },
  {
   "cell_type": "code",
   "execution_count": 1,
   "id": "c25b5ea3-90ef-4378-9626-8fdb14a4fcf8",
   "metadata": {},
   "outputs": [
    {
     "name": "stdout",
     "output_type": "stream",
     "text": [
      "Original Dataset:\n",
      "          City Weather  Severity  Accidents\n",
      "0     New York   Sunny         3        100\n",
      "1  Los Angeles   Rainy         2        150\n",
      "2     New York   Sunny         3        100\n",
      "3      Chicago  Cloudy         1         80\n",
      "4      Houston   Sunny         4         90\n",
      "5  Los Angeles   Rainy         2        150\n",
      "6       Boston   Rainy         3         60\n",
      "7       Boston   Sunny         3         60\n",
      "8      Chicago  Cloudy         1         80\n"
     ]
    }
   ],
   "source": [
    "import pandas as pd\n",
    "import numpy as np\n",
    "\n",
    "# Synthetic dataset\n",
    "data = {\n",
    "    'City': ['New York', 'Los Angeles', 'New York', 'Chicago', 'Houston', 'Los Angeles', 'Boston', 'Boston', 'Chicago'],\n",
    "    'Weather': ['Sunny', 'Rainy', 'Sunny', 'Cloudy', 'Sunny', 'Rainy', 'Rainy', 'Sunny', 'Cloudy'],\n",
    "    'Severity': [3, 2, 3, 1, 4, 2, 3, 3, 1],\n",
    "    'Accidents': [100, 150, 100, 80, 90, 150, 60, 60, 80]\n",
    "}\n",
    "\n",
    "df = pd.DataFrame(data)\n",
    "print(\"Original Dataset:\")\n",
    "print(df)\n"
   ]
  },
  {
   "cell_type": "markdown",
   "id": "e81cf0f0-01ed-4fa7-88fa-291f01e69af1",
   "metadata": {},
   "source": [
    "## Remove Duplicates:\n",
    "Duplicates are repeated rows in the dataset that may bias analysis or models. Removing duplicates ensures data integrity and accuracy. Pandas `drop_duplicates()` method identifies and removes duplicate rows based on all or selected columns.\n"
   ]
  },
  {
   "cell_type": "code",
   "execution_count": 2,
   "id": "b6620a1f-0bf7-4913-9216-ffc9d3fa9345",
   "metadata": {},
   "outputs": [
    {
     "name": "stdout",
     "output_type": "stream",
     "text": [
      "\n",
      "Dataset after removing duplicates:\n",
      "          City Weather  Severity  Accidents\n",
      "0     New York   Sunny         3        100\n",
      "1  Los Angeles   Rainy         2        150\n",
      "3      Chicago  Cloudy         1         80\n",
      "4      Houston   Sunny         4         90\n",
      "6       Boston   Rainy         3         60\n",
      "7       Boston   Sunny         3         60\n"
     ]
    }
   ],
   "source": [
    "df_no_duplicates = df.drop_duplicates()\n",
    "print(\"\\nDataset after removing duplicates:\")\n",
    "print(df_no_duplicates)\n"
   ]
  },
  {
   "cell_type": "markdown",
   "id": "ff6b89c5-bc5d-4bf6-ac30-5fa698005f8d",
   "metadata": {},
   "source": [
    "## Label Encoding:\n",
    "Convert `City` into numeric labels using pandas `category` dtype."
   ]
  },
  {
   "cell_type": "code",
   "execution_count": 6,
   "id": "eb94acb6-8129-40f9-b145-e5093860feb6",
   "metadata": {},
   "outputs": [
    {
     "name": "stdout",
     "output_type": "stream",
     "text": [
      "          City  City_Encoded\n",
      "0     New York             4\n",
      "1  Los Angeles             3\n",
      "3      Chicago             1\n",
      "4      Houston             2\n",
      "6       Boston             0\n",
      "7       Boston             0\n"
     ]
    }
   ],
   "source": [
    "df_no_duplicates = df.drop_duplicates().copy()  # make a real copy\n",
    "df_no_duplicates['City_Encoded'] = df_no_duplicates['City'].astype('category').cat.codes\n",
    "print(df_no_duplicates[['City', 'City_Encoded']])\n"
   ]
  },
  {
   "cell_type": "markdown",
   "id": "0b2b3271-d3f7-460a-ab99-1dd99f02cdd0",
   "metadata": {},
   "source": [
    "## One-Hot Encoding:\n",
    "Convert `Weather` into binary columns using `get_dummies`.\n"
   ]
  },
  {
   "cell_type": "markdown",
   "id": "d2cfca7e-175e-4c2c-825e-7d76ec0e70d9",
   "metadata": {},
   "source": [
    "## Outliers Handling:\n",
    "Outliers are data points that deviate significantly from the majority distribution. They may be errors or rare events.\n",
    "\n",
    "Handling can be by:\n",
    "\n",
    "- **Removal** if they are errors or noise.  \n",
    "- **Capping** or transformation to reduce skew.  \n",
    "- **Leaving as is** if meaningful for analysis.\n"
   ]
  },
  {
   "cell_type": "code",
   "execution_count": 4,
   "id": "6c4c4df5-59e3-42cd-b134-71b29ac7f866",
   "metadata": {},
   "outputs": [
    {
     "name": "stdout",
     "output_type": "stream",
     "text": [
      "\n",
      "Detected outliers:\n",
      "          City Weather  Severity  Accidents  City_Encoded\n",
      "1  Los Angeles   Rainy         2        150             3\n",
      "\n",
      "Dataset after removing outliers:\n",
      "       City Weather  Severity  Accidents  City_Encoded\n",
      "0  New York   Sunny         3        100             4\n",
      "3   Chicago  Cloudy         1         80             1\n",
      "4   Houston   Sunny         4         90             2\n",
      "6    Boston   Rainy         3         60             0\n",
      "7    Boston   Sunny         3         60             0\n",
      "\n",
      "Dataset after capping outliers:\n",
      "          City Weather  Severity  Accidents  City_Encoded\n",
      "0     New York   Sunny         3     100.00             4\n",
      "1  Los Angeles   Rainy         2     146.25             3\n",
      "3      Chicago  Cloudy         1      80.00             1\n",
      "4      Houston   Sunny         4      90.00             2\n",
      "6       Boston   Rainy         3      60.00             0\n",
      "7       Boston   Sunny         3      60.00             0\n"
     ]
    }
   ],
   "source": [
    "# Detect and handle outliers in 'Accidents' using IQR\n",
    "Q1 = df_no_duplicates['Accidents'].quantile(0.25)\n",
    "Q3 = df_no_duplicates['Accidents'].quantile(0.75)\n",
    "IQR = Q3 - Q1\n",
    "\n",
    "lower_bound = Q1 - 1.5 * IQR\n",
    "upper_bound = Q3 + 1.5 * IQR\n",
    "\n",
    "# Identify outliers\n",
    "outliers = df_no_duplicates[(df_no_duplicates['Accidents'] < lower_bound) | \n",
    "                            (df_no_duplicates['Accidents'] > upper_bound)]\n",
    "print(\"\\nDetected outliers:\")\n",
    "print(outliers)\n",
    "\n",
    "# Remove outliers\n",
    "df_no_outliers = df_no_duplicates[(df_no_duplicates['Accidents'] >= lower_bound) &\n",
    "                                  (df_no_duplicates['Accidents'] <= upper_bound)]\n",
    "print(\"\\nDataset after removing outliers:\")\n",
    "print(df_no_outliers)\n",
    "\n",
    "# Cap outliers (winsorizing)\n",
    "df_capped = df_no_duplicates.copy()\n",
    "df_capped['Accidents'] = np.where(df_capped['Accidents'] > upper_bound, upper_bound,\n",
    "                                  np.where(df_capped['Accidents'] < lower_bound, lower_bound, df_capped['Accidents']))\n",
    "print(\"\\nDataset after capping outliers:\")\n",
    "print(df_capped)\n"
   ]
  },
  {
   "cell_type": "markdown",
   "id": "c0a028dc-302f-4b17-a615-894000b6ef2d",
   "metadata": {},
   "source": [
    "## Visualize Outliers:\n",
    "Use a **boxplot** to see outliers in the `Accidents` column.\n"
   ]
  },
  {
   "cell_type": "code",
   "execution_count": 5,
   "id": "0435535f-5658-4544-a2e5-56bd651ee074",
   "metadata": {},
   "outputs": [
    {
     "data": {
      "image/png": "[encoded data removed]",
      "text/plain": [
       "<Figure size 800x500 with 1 Axes>"
      ]
     },
     "metadata": {},
     "output_type": "display_data"
    }
   ],
   "source": [
    "import matplotlib.pyplot as plt\n",
    "import seaborn as sns\n",
    "\n",
    "plt.figure(figsize=(8,5))\n",
    "sns.boxplot(x=df_no_duplicates['Accidents'])\n",
    "plt.title(\"Boxplot of 'Accidents' Column\")\n",
    "plt.xlabel(\"Accidents\")\n",
    "plt.show()\n"
   ]
  }
 ],
 "metadata": {
  "kernelspec": {
   "display_name": "Python 3 (ipykernel)",
   "language": "python",
   "name": "python3"
  },
  "language_info": {
   "codemirror_mode": {
    "name": "ipython",
    "version": 3
   },
   "file_extension": ".py",
   "mimetype": "text/x-python",
   "name": "python",
   "nbconvert_exporter": "python",
   "pygments_lexer": "ipython3",
   "version": "3.13.3"
  }
 },
 "nbformat": 4,
 "nbformat_minor": 5
}
