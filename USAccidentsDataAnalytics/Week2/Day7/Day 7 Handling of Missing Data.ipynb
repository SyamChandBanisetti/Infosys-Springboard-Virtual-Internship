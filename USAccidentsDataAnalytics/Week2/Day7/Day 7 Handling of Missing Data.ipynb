{
 "cells": [
  {
   "cell_type": "markdown",
   "id": "a301ae28-1296-4749-9202-a69a3b59a9eb",
   "metadata": {},
   "source": [
    "## Step 1: What are Missing Values?\n",
    "\n",
    "- Missing values are entries where data is absent.\n",
    "- Causes: sensor failure, skipped survey questions, data corruption, etc.\n",
    "- Why fix them?\n",
    "  - ML models cannot process missing values directly.\n",
    "  - They bias analysis and distort insights.\n",
    "  - Clean data → more reliable results.\n"
   ]
  },
  {
   "cell_type": "markdown",
   "id": "e8d324be-63c5-4d72-b12b-a7efd898e848",
   "metadata": {},
   "source": [
    "## Step 2: Dropping Rows/Columns with Missing Data\n",
    "\n",
    "- **Dropping** removes missing data completely.\n",
    "- When to drop?\n",
    "  - If a column has too many missing values (e.g., >30–50%).\n",
    "  - If a row is missing critical data that cannot be recovered.\n"
   ]
  },
  {
   "cell_type": "code",
   "execution_count": 1,
   "id": "d9e2c911-22d4-4d7e-80d0-8c862c3d1e0e",
   "metadata": {},
   "outputs": [
    {
     "name": "stdout",
     "output_type": "stream",
     "text": [
      "Original DataFrame:\n",
      "      A    B    C\n",
      "0  1.0  NaN  1.0\n",
      "1  NaN  NaN  2.0\n",
      "2  3.0  NaN  3.0\n",
      "3  4.0  4.0  NaN\n",
      "4  5.0  5.0  5.0\n",
      "\n",
      "After dropping rows with any missing values:\n",
      "      A    B    C\n",
      "4  5.0  5.0  5.0\n",
      "\n",
      "After dropping columns with any missing values:\n",
      " Empty DataFrame\n",
      "Columns: []\n",
      "Index: [0, 1, 2, 3, 4]\n",
      "\n",
      "After dropping columns with >50% missing values:\n",
      "      A    C\n",
      "0  1.0  1.0\n",
      "1  NaN  2.0\n",
      "2  3.0  3.0\n",
      "3  4.0  NaN\n",
      "4  5.0  5.0\n"
     ]
    }
   ],
   "source": [
    "import pandas as pd\n",
    "import numpy as np\n",
    "\n",
    "# Example DataFrame\n",
    "data = {\n",
    "    'A': [1, np.nan, 3, 4, 5],\n",
    "    'B': [np.nan, np.nan, np.nan, 4, 5],\n",
    "    'C': [1, 2, 3, np.nan, 5]\n",
    "}\n",
    "df = pd.DataFrame(data)\n",
    "print(\"Original DataFrame:\\n\", df)\n",
    "\n",
    "# Drop rows with ANY missing values\n",
    "df_drop_rows = df.dropna(axis=0)\n",
    "print(\"\\nAfter dropping rows with any missing values:\\n\", df_drop_rows)\n",
    "\n",
    "# Drop columns with ANY missing values\n",
    "df_drop_cols = df.dropna(axis=1)\n",
    "print(\"\\nAfter dropping columns with any missing values:\\n\", df_drop_cols)\n",
    "\n",
    "# Drop columns with >50% missing values\n",
    "threshold = 0.5 * len(df)\n",
    "df_drop_threshold = df.dropna(axis=1, thresh=threshold)\n",
    "print(\"\\nAfter dropping columns with >50% missing values:\\n\", df_drop_threshold)\n"
   ]
  },
  {
   "cell_type": "markdown",
   "id": "1b87cc42-b396-4502-9554-8bbad466a42f",
   "metadata": {},
   "source": [
    "## Step 3: Imputation (Filling Missing Data)\n",
    "\n",
    "- **Imputation** replaces missing values with plausible substitutes.\n",
    "- When to impute?\n",
    "  - When data is important and can be reasonably estimated.\n",
    "- Techniques:\n",
    "  1. Constant (0, “Unknown”)\n",
    "  2. Mean / Median / Mode\n",
    "  3. Forward/Backward Fill (time-series)\n",
    "  4. Advanced: KNN Imputer, Iterative Imputer\n"
   ]
  },
  {
   "cell_type": "code",
   "execution_count": 2,
   "id": "2e375ea0-4412-4bff-b808-f362579f7f4a",
   "metadata": {},
   "outputs": [
    {
     "name": "stdout",
     "output_type": "stream",
     "text": [
      "\n",
      "Fill missing values with 0:\n",
      "      A    B    C\n",
      "0  1.0  0.0  1.0\n",
      "1  0.0  0.0  2.0\n",
      "2  3.0  0.0  3.0\n",
      "3  4.0  4.0  0.0\n",
      "4  5.0  5.0  5.0\n"
     ]
    }
   ],
   "source": [
    "df_constant = df.fillna(0)\n",
    "print(\"\\nFill missing values with 0:\\n\", df_constant)\n"
   ]
  },
  {
   "cell_type": "code",
   "execution_count": 3,
   "id": "998ef3c0-3639-4eda-a067-7250b3508f69",
   "metadata": {},
   "outputs": [
    {
     "name": "stdout",
     "output_type": "stream",
     "text": [
      "\n",
      "Fill numerical columns with mean:\n",
      "       A    B     C\n",
      "0  1.00  4.5  1.00\n",
      "1  3.25  4.5  2.00\n",
      "2  3.00  4.5  3.00\n",
      "3  4.00  4.0  2.75\n",
      "4  5.00  5.0  5.00\n",
      "\n",
      "Fill numerical columns with median:\n",
      "      A    B    C\n",
      "0  1.0  4.5  1.0\n",
      "1  3.5  4.5  2.0\n",
      "2  3.0  4.5  3.0\n",
      "3  4.0  4.0  2.5\n",
      "4  5.0  5.0  5.0\n",
      "\n",
      "Fill categorical columns with mode:\n",
      "      A    B    C\n",
      "0  1.0  NaN  1.0\n",
      "1  NaN  NaN  2.0\n",
      "2  3.0  NaN  3.0\n",
      "3  4.0  4.0  NaN\n",
      "4  5.0  5.0  5.0\n"
     ]
    }
   ],
   "source": [
    "# Numerical → Mean\n",
    "df_mean = df.fillna(df.mean(numeric_only=True))\n",
    "print(\"\\nFill numerical columns with mean:\\n\", df_mean)\n",
    "\n",
    "# Numerical → Median\n",
    "df_median = df.fillna(df.median(numeric_only=True))\n",
    "print(\"\\nFill numerical columns with median:\\n\", df_median)\n",
    "\n",
    "# Categorical → Mode\n",
    "df_mode = df.apply(lambda x: x.fillna(x.mode()[0]) if x.dtype=='O' else x)\n",
    "print(\"\\nFill categorical columns with mode:\\n\", df_mode)\n"
   ]
  },
  {
   "cell_type": "code",
   "execution_count": 4,
   "id": "ff6c0178-1fee-4c32-b5ad-446f61da497f",
   "metadata": {},
   "outputs": [
    {
     "name": "stdout",
     "output_type": "stream",
     "text": [
      "\n",
      "Forward fill missing values:\n",
      "      A    B    C\n",
      "0  1.0  NaN  1.0\n",
      "1  1.0  NaN  2.0\n",
      "2  3.0  NaN  3.0\n",
      "3  4.0  4.0  3.0\n",
      "4  5.0  5.0  5.0\n",
      "\n",
      "Backward fill missing values:\n",
      "      A    B    C\n",
      "0  1.0  4.0  1.0\n",
      "1  3.0  4.0  2.0\n",
      "2  3.0  4.0  3.0\n",
      "3  4.0  4.0  5.0\n",
      "4  5.0  5.0  5.0\n"
     ]
    }
   ],
   "source": [
    "df_ffill = df.ffill()\n",
    "print(\"\\nForward fill missing values:\\n\", df_ffill)\n",
    "\n",
    "df_bfill = df.bfill()\n",
    "print(\"\\nBackward fill missing values:\\n\", df_bfill)\n"
   ]
  },
  {
   "cell_type": "code",
   "execution_count": 5,
   "id": "62b6353a-0822-44ff-81b7-9a665e32afbf",
   "metadata": {},
   "outputs": [
    {
     "name": "stdout",
     "output_type": "stream",
     "text": [
      "\n",
      "KNN Imputed DataFrame:\n",
      "      A    B    C\n",
      "0  1.0  4.5  1.0\n",
      "1  2.0  5.0  2.0\n",
      "2  3.0  4.5  3.0\n",
      "3  4.0  4.0  4.0\n",
      "4  5.0  5.0  5.0\n"
     ]
    }
   ],
   "source": [
    "from sklearn.impute import KNNImputer\n",
    "\n",
    "knn_imputer = KNNImputer(n_neighbors=2)\n",
    "df_knn = pd.DataFrame(knn_imputer.fit_transform(df), columns=df.columns)\n",
    "print(\"\\nKNN Imputed DataFrame:\\n\", df_knn)\n"
   ]
  },
  {
   "cell_type": "markdown",
   "id": "13dd6f4f-67a0-49f7-8cee-ce7a527b4061",
   "metadata": {},
   "source": [
    "## Step 4: Choosing the Best Strategy\n",
    "\n",
    "- Drop → if >30–50% data is missing (but check domain importance).\n",
    "- Impute → if missingness is moderate and can be estimated.\n",
    "- Mean/Median → numeric data.\n",
    "- Mode → categorical data.\n",
    "- KNN/Advanced → when accuracy is critical in ML pipeline.\n"
   ]
  },
  {
   "cell_type": "markdown",
   "id": "7e6be146-9f67-4017-9a40-99a35be9a93e",
   "metadata": {},
   "source": [
    "## Step 5: Assignment Practice\n",
    "\n",
    "Here’s a dummy dataset for practice.\n"
   ]
  },
  {
   "cell_type": "code",
   "execution_count": 6,
   "id": "2578c0df-6df0-4697-a39f-ba45688f250a",
   "metadata": {},
   "outputs": [
    {
     "name": "stdout",
     "output_type": "stream",
     "text": [
      "Original Dummy Dataset with Missing Values:\n",
      "     Age   Salary         City Purchased\n",
      "0  25.0  50000.0     New York       Yes\n",
      "1   NaN  60000.0  Los Angeles        No\n",
      "2  30.0      NaN     New York       NaN\n",
      "3  22.0  52000.0          NaN        No\n",
      "4  40.0  58000.0      Chicago       Yes\n",
      "5   NaN  62000.0      Chicago       Yes\n",
      "6  28.0      NaN  Los Angeles        No\n"
     ]
    }
   ],
   "source": [
    "data = {\n",
    "    'Age': [25, np.nan, 30, 22, 40, np.nan, 28],\n",
    "    'Salary': [50000, 60000, np.nan, 52000, 58000, 62000, np.nan],\n",
    "    'City': ['New York', 'Los Angeles', 'New York', np.nan, 'Chicago', 'Chicago', 'Los Angeles'],\n",
    "    'Purchased': ['Yes', 'No', np.nan, 'No', 'Yes', 'Yes', 'No']\n",
    "}\n",
    "df_dummy = pd.DataFrame(data)\n",
    "print(\"Original Dummy Dataset with Missing Values:\\n\", df_dummy)\n"
   ]
  },
  {
   "cell_type": "code",
   "execution_count": 7,
   "id": "2d44221d-d0e5-4b3d-b9a2-8ad3c40337fb",
   "metadata": {},
   "outputs": [
    {
     "name": "stdout",
     "output_type": "stream",
     "text": [
      "\n",
      "Dummy Dataset After Imputation:\n",
      "     Age   Salary         City Purchased\n",
      "0  25.0  50000.0     New York       Yes\n",
      "1  29.0  60000.0  Los Angeles        No\n",
      "2  30.0  58000.0     New York        No\n",
      "3  22.0  52000.0      Chicago        No\n",
      "4  40.0  58000.0      Chicago       Yes\n",
      "5  29.0  62000.0      Chicago       Yes\n",
      "6  28.0  58000.0  Los Angeles        No\n"
     ]
    }
   ],
   "source": [
    "\n",
    "df_imputed = df_dummy.copy()\n",
    "df_imputed['Age'] = df_imputed['Age'].fillna(df_imputed['Age'].mean())\n",
    "df_imputed['Salary'] = df_imputed['Salary'].fillna(df_imputed['Salary'].median())\n",
    "df_imputed['City'] = df_imputed['City'].fillna(df_imputed['City'].mode()[0])\n",
    "df_imputed['Purchased'] = df_imputed['Purchased'].fillna(df_imputed['Purchased'].mode()[0])\n",
    "\n",
    "print(\"\\nDummy Dataset After Imputation:\\n\", df_imputed)\n"
   ]
  }
 ],
 "metadata": {
  "kernelspec": {
   "display_name": "Python 3 (ipykernel)",
   "language": "python",
   "name": "python3"
  },
  "language_info": {
   "codemirror_mode": {
    "name": "ipython",
    "version": 3
   },
   "file_extension": ".py",
   "mimetype": "text/x-python",
   "name": "python",
   "nbconvert_exporter": "python",
   "pygments_lexer": "ipython3",
   "version": "3.13.3"
  }
 },
 "nbformat": 4,
 "nbformat_minor": 5
}
