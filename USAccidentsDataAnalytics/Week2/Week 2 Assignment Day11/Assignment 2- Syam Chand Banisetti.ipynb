{
 "cells": [
  {
   "cell_type": "code",
   "execution_count": 12,
   "id": "df5f41af-a802-4c12-a679-1b5f12422a25",
   "metadata": {},
   "outputs": [],
   "source": [
    "import pandas as pd\n",
    "import matplotlib.pyplot as plt\n"
   ]
  },
  {
   "cell_type": "code",
   "execution_count": 13,
   "id": "acbf31ba-11f2-4a74-b6ed-112b8aac145e",
   "metadata": {},
   "outputs": [],
   "source": [
    "file_path = r\"D:\\Infosys SpringBoard Virtual Internship 6.0\\US_Accidents_March23.csv\"\n",
    "df = pd.read_csv(file_path)\n"
   ]
  },
  {
   "cell_type": "code",
   "execution_count": 14,
   "id": "45c73aa7-0e05-4ba8-9a9a-fb53a526549e",
   "metadata": {},
   "outputs": [
    {
     "name": "stdout",
     "output_type": "stream",
     "text": [
      "Accident Severity Distribution:\n",
      " Severity\n",
      "2    6156981\n",
      "3    1299337\n",
      "4     204710\n",
      "1      67366\n",
      "Name: count, dtype: int64\n",
      "\n",
      "Percentage of accidents by Severity level:\n",
      " Severity\n",
      "2    79.667017\n",
      "3    16.812510\n",
      "4     2.648804\n",
      "1     0.871669\n",
      "Name: proportion, dtype: float64\n"
     ]
    }
   ],
   "source": [
    "# Answer for Question 1 - What is the distribution of accident severity levels?\n",
    "\n",
    "import matplotlib.pyplot as plt\n",
    "\n",
    "severity_distribution = df['Severity'].value_counts()\n",
    "print(\"Accident Severity Distribution:\\n\", severity_distribution)\n",
    "\n",
    "severity_percentage = df['Severity'].value_counts(normalize=True) * 100\n",
    "print(\"\\nPercentage of accidents by Severity level:\\n\", severity_percentage)\n"
   ]
  },
  {
   "cell_type": "code",
   "execution_count": 15,
   "id": "532692d2-deda-401f-aa15-34985c98bcb4",
   "metadata": {},
   "outputs": [
    {
     "name": "stdout",
     "output_type": "stream",
     "text": [
      "Accident Frequency by Hour of the Day:\n",
      " Hour\n",
      "0.0      98452\n",
      "1.0      85743\n",
      "2.0      82394\n",
      "3.0      74229\n",
      "4.0     149077\n",
      "5.0     209579\n",
      "6.0     375179\n",
      "7.0     546789\n",
      "8.0     541643\n",
      "9.0     334067\n",
      "10.0    313625\n",
      "11.0    322215\n",
      "12.0    316904\n",
      "13.0    352361\n",
      "14.0    394697\n",
      "15.0    463389\n",
      "16.0    520177\n",
      "17.0    516626\n",
      "18.0    390621\n",
      "19.0    267045\n",
      "20.0    201883\n",
      "21.0    169500\n",
      "22.0    148605\n",
      "23.0    110428\n",
      "Name: count, dtype: int64\n"
     ]
    }
   ],
   "source": [
    "# Answer for Question 2 - How is the accident frequency distributed by hour of the day?\n",
    "\n",
    "df['Start_Time'] = pd.to_datetime(df['Start_Time'], errors='coerce')\n",
    "\n",
    "\n",
    "df['Hour'] = df['Start_Time'].dt.hour\n",
    "\n",
    "hourly_distribution = df['Hour'].value_counts().sort_index()\n",
    "print(\"Accident Frequency by Hour of the Day:\\n\", hourly_distribution)\n"
   ]
  },
  {
   "cell_type": "code",
   "execution_count": 16,
   "id": "4e111668-8fdc-47cd-b9e1-81922cf322ba",
   "metadata": {},
   "outputs": [
    {
     "name": "stdout",
     "output_type": "stream",
     "text": [
      "Accident Frequency by Day of the Week:\n",
      " Day_of_Week\n",
      "Friday       1237229\n",
      "Thursday     1196137\n",
      "Wednesday    1195864\n",
      "Tuesday      1177923\n",
      "Monday       1108807\n",
      "Saturday      579153\n",
      "Sunday        490115\n",
      "Name: count, dtype: int64\n"
     ]
    }
   ],
   "source": [
    "# Answer for Question 3 - Which days of the week have the highest number of accidents?\n",
    "\n",
    "\n",
    "df['Day_of_Week'] = df['Start_Time'].dt.day_name()\n",
    "\n",
    "day_distribution = df['Day_of_Week'].value_counts()\n",
    "print(\"Accident Frequency by Day of the Week:\\n\", day_distribution)\n"
   ]
  },
  {
   "cell_type": "code",
   "execution_count": 17,
   "id": "0e41a764-fa71-44b5-a159-f8a4962e7ad2",
   "metadata": {},
   "outputs": [
    {
     "name": "stdout",
     "output_type": "stream",
     "text": [
      "Most Common Weather Conditions During Accidents:\n",
      " Weather_Condition\n",
      "Fair                         2560802\n",
      "Mostly Cloudy                1016195\n",
      "Cloudy                        817082\n",
      "Clear                         808743\n",
      "Partly Cloudy                 698972\n",
      "                              ...   \n",
      "Heavy Sleet / Windy                1\n",
      "Sand / Windy                       1\n",
      "Heavy Rain Shower / Windy          1\n",
      "Blowing Snow Nearby                1\n",
      "Drifting Snow                      1\n",
      "Name: count, Length: 144, dtype: int64\n"
     ]
    }
   ],
   "source": [
    "# Answer for Question 4 - What are the most common weather conditions during accidents?\n",
    "\n",
    "weather_distribution = df['Weather_Condition'].value_counts()\n",
    "print(\"Most Common Weather Conditions During Accidents:\\n\", weather_distribution)\n"
   ]
  },
  {
   "cell_type": "code",
   "execution_count": 18,
   "id": "24d72f79-19e8-4a98-bfbf-62ead2b2da1a",
   "metadata": {},
   "outputs": [
    {
     "name": "stdout",
     "output_type": "stream",
     "text": [
      "Missing Data Percentage by Column:\n",
      " End_Lat                  44.029355\n",
      "End_Lng                  44.029355\n",
      "Precipitation(in)        28.512858\n",
      "Wind_Chill(F)            25.865904\n",
      "Day_of_Week               9.616047\n",
      "Hour                      9.616047\n",
      "Start_Time                9.616047\n",
      "Wind_Speed(mph)           7.391355\n",
      "Visibility(mi)            2.291524\n",
      "Wind_Direction            2.267043\n",
      "Humidity(%)               2.253301\n",
      "Weather_Condition         2.244438\n",
      "Temperature(F)            2.120143\n",
      "Pressure(in)              1.820288\n",
      "Weather_Timestamp         1.555666\n",
      "Civil_Twilight            0.300787\n",
      "Astronomical_Twilight     0.300787\n",
      "Sunrise_Sunset            0.300787\n",
      "Nautical_Twilight         0.300787\n",
      "Airport_Code              0.292881\n",
      "Street                    0.140637\n",
      "Timezone                  0.101030\n",
      "Zipcode                   0.024779\n",
      "City                      0.003274\n",
      "Description               0.000065\n",
      "Source                    0.000000\n",
      "Distance(mi)              0.000000\n",
      "ID                        0.000000\n",
      "Severity                  0.000000\n",
      "End_Time                  0.000000\n",
      "Start_Lat                 0.000000\n",
      "Start_Lng                 0.000000\n",
      "State                     0.000000\n",
      "County                    0.000000\n",
      "Amenity                   0.000000\n",
      "Country                   0.000000\n",
      "Crossing                  0.000000\n",
      "Bump                      0.000000\n",
      "Give_Way                  0.000000\n",
      "Junction                  0.000000\n",
      "Traffic_Calming           0.000000\n",
      "Stop                      0.000000\n",
      "Station                   0.000000\n",
      "Roundabout                0.000000\n",
      "Railway                   0.000000\n",
      "No_Exit                   0.000000\n",
      "Traffic_Signal            0.000000\n",
      "Turning_Loop              0.000000\n",
      "dtype: float64\n"
     ]
    }
   ],
   "source": [
    "# Answer for Question 5 - Identify columns with missing data and their missing percentage\n",
    "\n",
    "missing_percentage = (df.isnull().mean() * 100).sort_values(ascending=False)\n",
    "print(\"Missing Data Percentage by Column:\\n\", missing_percentage)\n"
   ]
  },
  {
   "cell_type": "code",
   "execution_count": 19,
   "id": "af321ab6-a4e1-479e-862c-ebd87b03a7d6",
   "metadata": {},
   "outputs": [
    {
     "name": "stdout",
     "output_type": "stream",
     "text": [
      "Missing values in numerical columns have been imputed with median.\n",
      "    Severity  Start_Lat  Start_Lng    End_Lat   End_Lng  Distance(mi)  \\\n",
      "0          3  39.865147 -84.058723  36.183495 -88.02789          0.01   \n",
      "1          2  39.928059 -82.831184  36.183495 -88.02789          0.01   \n",
      "2          2  39.063148 -84.032608  36.183495 -88.02789          0.01   \n",
      "3          3  39.747753 -84.205582  36.183495 -88.02789          0.01   \n",
      "4          2  39.627781 -84.188354  36.183495 -88.02789          0.01   \n",
      "5          3  40.100590 -82.925194  36.183495 -88.02789          0.01   \n",
      "6          2  39.758274 -84.230507  36.183495 -88.02789          0.00   \n",
      "7          3  39.770382 -84.194901  36.183495 -88.02789          0.01   \n",
      "8          2  39.778061 -84.172005  36.183495 -88.02789          0.00   \n",
      "9          3  40.100590 -82.925194  36.183495 -88.02789          0.01   \n",
      "10         3  39.952812 -83.119293  36.183495 -88.02789          0.01   \n",
      "11         3  39.932709 -82.830910  36.183495 -88.02789          0.01   \n",
      "12         2  39.737633 -84.149933  36.183495 -88.02789          0.00   \n",
      "13         2  39.790760 -84.241547  36.183495 -88.02789          0.01   \n",
      "14         2  39.972038 -82.913521  36.183495 -88.02789          0.01   \n",
      "15         2  39.745888 -84.170410  36.183495 -88.02789          0.01   \n",
      "16         2  39.748329 -84.224007  36.183495 -88.02789          0.01   \n",
      "17         2  39.752174 -84.239952  36.183495 -88.02789          0.00   \n",
      "18         2  39.740669 -84.184135  36.183495 -88.02789          0.01   \n",
      "19         2  39.790703 -84.244461  36.183495 -88.02789          0.01   \n",
      "\n",
      "    Temperature(F)  Wind_Chill(F)  Humidity(%)  Pressure(in)  Visibility(mi)  \\\n",
      "0             36.9           62.0         91.0         29.68            10.0   \n",
      "1             37.9           62.0        100.0         29.65            10.0   \n",
      "2             36.0           33.3        100.0         29.67            10.0   \n",
      "3             35.1           31.0         96.0         29.64             9.0   \n",
      "4             36.0           33.3         89.0         29.65             6.0   \n",
      "5             37.9           35.5         97.0         29.63             7.0   \n",
      "6             34.0           31.0        100.0         29.66             7.0   \n",
      "7             34.0           31.0        100.0         29.66             7.0   \n",
      "8             33.3           62.0         99.0         29.67             5.0   \n",
      "9             37.4           33.8        100.0         29.62             3.0   \n",
      "10            35.6           30.7         93.0         29.64             5.0   \n",
      "11            37.4           33.8        100.0         29.62             3.0   \n",
      "12            33.8           62.0        100.0         29.63             3.0   \n",
      "13            36.0           31.1         89.0         29.65            10.0   \n",
      "14            37.4           33.8        100.0         29.62             3.0   \n",
      "15            33.8           62.0        100.0         29.63             3.0   \n",
      "16            35.6           62.0         99.0         29.65             7.0   \n",
      "17            36.0           31.1         89.0         29.65            10.0   \n",
      "18            37.4           32.1         93.0         29.63            10.0   \n",
      "19            36.0           30.3         89.0         29.65            10.0   \n",
      "\n",
      "    Wind_Speed(mph)  Precipitation(in)  Hour  \n",
      "0               7.0               0.02   5.0  \n",
      "1               7.0               0.00   6.0  \n",
      "2               3.5               0.00   6.0  \n",
      "3               4.6               0.00   7.0  \n",
      "4               3.5               0.00   7.0  \n",
      "5               3.5               0.03   7.0  \n",
      "6               3.5               0.00   7.0  \n",
      "7               3.5               0.00   7.0  \n",
      "8               1.2               0.00   8.0  \n",
      "9               4.6               0.02   8.0  \n",
      "10              5.8               0.00   8.0  \n",
      "11              4.6               0.02   8.0  \n",
      "12              2.3               0.00   8.0  \n",
      "13              5.8               0.00   8.0  \n",
      "14              4.6               0.02   8.0  \n",
      "15              2.3               0.00   8.0  \n",
      "16              2.3               0.00   8.0  \n",
      "17              5.8               0.00   9.0  \n",
      "18              6.9               0.00   9.0  \n",
      "19              6.9               0.00   9.0  \n"
     ]
    }
   ],
   "source": [
    "# Answer for Question 6 - Impute missing numerical values with median\n",
    "\n",
    "num_cols = df.select_dtypes(include=['float64', 'int64']).columns\n",
    "\n",
    "for col in num_cols:\n",
    "    df[col] = df[col].fillna(df[col].median())\n",
    "\n",
    "print(\"Missing values in numerical columns have been imputed with median.\")\n",
    "\n",
    "print(df[num_cols].head(20))\n"
   ]
  },
  {
   "cell_type": "code",
   "execution_count": 20,
   "id": "ef66c59b-39cf-4d30-ba8d-60cc9e966609",
   "metadata": {},
   "outputs": [
    {
     "name": "stdout",
     "output_type": "stream",
     "text": [
      "Missing values in categorical columns have been imputed with mode.\n",
      "    Severity  Start_Lat  Start_Lng    End_Lat   End_Lng  Distance(mi)  \\\n",
      "0          3  39.865147 -84.058723  36.183495 -88.02789          0.01   \n",
      "1          2  39.928059 -82.831184  36.183495 -88.02789          0.01   \n",
      "2          2  39.063148 -84.032608  36.183495 -88.02789          0.01   \n",
      "3          3  39.747753 -84.205582  36.183495 -88.02789          0.01   \n",
      "4          2  39.627781 -84.188354  36.183495 -88.02789          0.01   \n",
      "5          3  40.100590 -82.925194  36.183495 -88.02789          0.01   \n",
      "6          2  39.758274 -84.230507  36.183495 -88.02789          0.00   \n",
      "7          3  39.770382 -84.194901  36.183495 -88.02789          0.01   \n",
      "8          2  39.778061 -84.172005  36.183495 -88.02789          0.00   \n",
      "9          3  40.100590 -82.925194  36.183495 -88.02789          0.01   \n",
      "10         3  39.952812 -83.119293  36.183495 -88.02789          0.01   \n",
      "11         3  39.932709 -82.830910  36.183495 -88.02789          0.01   \n",
      "12         2  39.737633 -84.149933  36.183495 -88.02789          0.00   \n",
      "13         2  39.790760 -84.241547  36.183495 -88.02789          0.01   \n",
      "14         2  39.972038 -82.913521  36.183495 -88.02789          0.01   \n",
      "15         2  39.745888 -84.170410  36.183495 -88.02789          0.01   \n",
      "16         2  39.748329 -84.224007  36.183495 -88.02789          0.01   \n",
      "17         2  39.752174 -84.239952  36.183495 -88.02789          0.00   \n",
      "18         2  39.740669 -84.184135  36.183495 -88.02789          0.01   \n",
      "19         2  39.790703 -84.244461  36.183495 -88.02789          0.01   \n",
      "\n",
      "    Temperature(F)  Wind_Chill(F)  Humidity(%)  Pressure(in)  Visibility(mi)  \\\n",
      "0             36.9           62.0         91.0         29.68            10.0   \n",
      "1             37.9           62.0        100.0         29.65            10.0   \n",
      "2             36.0           33.3        100.0         29.67            10.0   \n",
      "3             35.1           31.0         96.0         29.64             9.0   \n",
      "4             36.0           33.3         89.0         29.65             6.0   \n",
      "5             37.9           35.5         97.0         29.63             7.0   \n",
      "6             34.0           31.0        100.0         29.66             7.0   \n",
      "7             34.0           31.0        100.0         29.66             7.0   \n",
      "8             33.3           62.0         99.0         29.67             5.0   \n",
      "9             37.4           33.8        100.0         29.62             3.0   \n",
      "10            35.6           30.7         93.0         29.64             5.0   \n",
      "11            37.4           33.8        100.0         29.62             3.0   \n",
      "12            33.8           62.0        100.0         29.63             3.0   \n",
      "13            36.0           31.1         89.0         29.65            10.0   \n",
      "14            37.4           33.8        100.0         29.62             3.0   \n",
      "15            33.8           62.0        100.0         29.63             3.0   \n",
      "16            35.6           62.0         99.0         29.65             7.0   \n",
      "17            36.0           31.1         89.0         29.65            10.0   \n",
      "18            37.4           32.1         93.0         29.63            10.0   \n",
      "19            36.0           30.3         89.0         29.65            10.0   \n",
      "\n",
      "    Wind_Speed(mph)  Precipitation(in)  Hour  \n",
      "0               7.0               0.02   5.0  \n",
      "1               7.0               0.00   6.0  \n",
      "2               3.5               0.00   6.0  \n",
      "3               4.6               0.00   7.0  \n",
      "4               3.5               0.00   7.0  \n",
      "5               3.5               0.03   7.0  \n",
      "6               3.5               0.00   7.0  \n",
      "7               3.5               0.00   7.0  \n",
      "8               1.2               0.00   8.0  \n",
      "9               4.6               0.02   8.0  \n",
      "10              5.8               0.00   8.0  \n",
      "11              4.6               0.02   8.0  \n",
      "12              2.3               0.00   8.0  \n",
      "13              5.8               0.00   8.0  \n",
      "14              4.6               0.02   8.0  \n",
      "15              2.3               0.00   8.0  \n",
      "16              2.3               0.00   8.0  \n",
      "17              5.8               0.00   9.0  \n",
      "18              6.9               0.00   9.0  \n",
      "19              6.9               0.00   9.0  \n"
     ]
    }
   ],
   "source": [
    "# Answer for Question 7 - Impute missing categorical values with mode\n",
    "\n",
    "cat_cols = df.select_dtypes(include=['object']).columns\n",
    "\n",
    "for col in cat_cols:\n",
    "    df[col] = df[col].fillna(df[col].mode()[0])\n",
    "\n",
    "print(\"Missing values in categorical columns have been imputed with mode.\")\n",
    "\n",
    "print(df[num_cols].head(20))\n"
   ]
  },
  {
   "cell_type": "code",
   "execution_count": 21,
   "id": "df62ca3c-6315-4916-9032-e210e91f78a8",
   "metadata": {},
   "outputs": [
    {
     "name": "stdout",
     "output_type": "stream",
     "text": [
      "Label Encoding completed for 'State' column.\n"
     ]
    }
   ],
   "source": [
    "# Answer for Question 8 - Label encode a categorical column\n",
    "\n",
    "from sklearn.preprocessing import LabelEncoder\n",
    "\n",
    "le = LabelEncoder()\n",
    "df['State'] = le.fit_transform(df['State'])\n",
    "\n",
    "print(\"Label Encoding completed for 'State' column.\")\n"
   ]
  },
  {
   "cell_type": "code",
   "execution_count": 22,
   "id": "4f14fb4f-436b-45d6-9804-725dbc06e3e5",
   "metadata": {},
   "outputs": [
    {
     "name": "stdout",
     "output_type": "stream",
     "text": [
      "One-hot encoding completed for 'State' column.\n",
      "    ID   Source  Severity          Start_Time             End_Time  Start_Lat  \\\n",
      "0  A-1  Source2         3 2016-02-08 05:46:00  2016-02-08 11:00:00  39.865147   \n",
      "1  A-2  Source2         2 2016-02-08 06:07:59  2016-02-08 06:37:59  39.928059   \n",
      "2  A-3  Source2         2 2016-02-08 06:49:27  2016-02-08 07:19:27  39.063148   \n",
      "3  A-4  Source2         3 2016-02-08 07:23:34  2016-02-08 07:53:34  39.747753   \n",
      "4  A-5  Source2         2 2016-02-08 07:39:07  2016-02-08 08:09:07  39.627781   \n",
      "\n",
      "   Start_Lng    End_Lat   End_Lng  Distance(mi)  ... State_39 State_40  \\\n",
      "0 -84.058723  36.183495 -88.02789          0.01  ...    False    False   \n",
      "1 -82.831184  36.183495 -88.02789          0.01  ...    False    False   \n",
      "2 -84.032608  36.183495 -88.02789          0.01  ...    False    False   \n",
      "3 -84.205582  36.183495 -88.02789          0.01  ...    False    False   \n",
      "4 -84.188354  36.183495 -88.02789          0.01  ...    False    False   \n",
      "\n",
      "  State_41 State_42 State_43 State_44 State_45 State_46 State_47  State_48  \n",
      "0    False    False    False    False    False    False    False     False  \n",
      "1    False    False    False    False    False    False    False     False  \n",
      "2    False    False    False    False    False    False    False     False  \n",
      "3    False    False    False    False    False    False    False     False  \n",
      "4    False    False    False    False    False    False    False     False  \n",
      "\n",
      "[5 rows x 96 columns]\n"
     ]
    }
   ],
   "source": [
    "# Answer for Question 9 - One-hot encode a categorical column\n",
    "\n",
    "df_encoded = pd.get_dummies(df, columns=['State'], prefix='State')\n",
    "\n",
    "print(\"One-hot encoding completed for 'State' column.\")\n",
    "print(df_encoded.head())\n"
   ]
  }
 ],
 "metadata": {
  "kernelspec": {
   "display_name": "Python 3 (ipykernel)",
   "language": "python",
   "name": "python3"
  },
  "language_info": {
   "codemirror_mode": {
    "name": "ipython",
    "version": 3
   },
   "file_extension": ".py",
   "mimetype": "text/x-python",
   "name": "python",
   "nbconvert_exporter": "python",
   "pygments_lexer": "ipython3",
   "version": "3.13.3"
  }
 },
 "nbformat": 4,
 "nbformat_minor": 5
}
